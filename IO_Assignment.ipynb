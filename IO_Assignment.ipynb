{
 "cells": [
  {
   "cell_type": "code",
   "execution_count": 2,
   "metadata": {},
   "outputs": [],
   "source": [
    "import numpy as np"
   ]
  },
  {
   "cell_type": "code",
   "execution_count": 3,
   "metadata": {},
   "outputs": [],
   "source": [
    "data=[[3,1.5,1],\n",
    "      [2,1,0],\n",
    "      [4,1.5,1],\n",
    "      [3,1,0],\n",
    "      [3.5,0.5,1],\n",
    "      [2,0.5,0],\n",
    "      [5.5,1,1],\n",
    "      [1,1,0]]\n",
    "tree=[4.5,1]\n",
    "\n",
    "# To find the type of tree\n",
    "# 1 for Type 1\n",
    "# 0 for Type 2\n",
    "\n",
    "w1=np.random.randn()\n",
    "w2=np.random.randn()\n",
    "b=np.random.randn()"
   ]
  },
  {
   "cell_type": "code",
   "execution_count": 9,
   "metadata": {},
   "outputs": [],
   "source": [
    "def sigmoid(x):\n",
    "    return 1/(1+ np.exp(-x))\n",
    "def sigmoid_d(x):\n",
    "    return (1/(1+ np.exp(-x))) * (1-(1/(1+ np.exp(-x))))"
   ]
  },
  {
   "cell_type": "code",
   "execution_count": 32,
   "metadata": {},
   "outputs": [],
   "source": [
    "lr=0.2\n",
    "for i in range(100):\n",
    "    index=np.random.randint(len(data))\n",
    "    point=data[index]\n",
    "    \n",
    "    z=point[0] * w1 + point[1] * w2 + b\n",
    "    p=sigmoid(z)\n",
    "    \n",
    "    t=point[2]\n",
    "    cost=np.square(p-t)\n",
    "    \n",
    "    dcost_p=2*(p-t)\n",
    "    dp_dz=sigmoid_d(z)\n",
    "    dz_dw1=point[0]\n",
    "    dz_dw2=point[1]\n",
    "    dz_db=1\n",
    "    \n",
    "    dcost_dz=dcost_p * dp_dz\n",
    "    \n",
    "    dcost_dw1= dcost_dz * dz_dw1\n",
    "    dcost_dw2= dcost_dz * dz_dw2\n",
    "    dcost_db= dcost_dz * dz_db\n",
    "    \n",
    "    w1=w1 - lr*dcost_dw1\n",
    "    w2=w2 - lr*dcost_dw2\n",
    "    b=b - lr*dcost_db"
   ]
  },
  {
   "cell_type": "code",
   "execution_count": 38,
   "metadata": {},
   "outputs": [
    {
     "name": "stdout",
     "output_type": "stream",
     "text": [
      "Type 1 tree\n"
     ]
    }
   ],
   "source": [
    "#To detect the type of tree\n",
    "\n",
    "z=tree[0] * w1 + tree[1] * w2 + b\n",
    "predicted_value=sigmoid(z)\n",
    "\n",
    "if(predicted_value > 0.5):\n",
    "    print(\"Type 1 tree\")\n",
    "elif(predicted_value < 0.5):\n",
    "    print(\"Type 2 tree\")"
   ]
  }
 ],
 "metadata": {
  "kernelspec": {
   "display_name": "Python 3",
   "language": "python",
   "name": "python3"
  },
  "language_info": {
   "codemirror_mode": {
    "name": "ipython",
    "version": 3
   },
   "file_extension": ".py",
   "mimetype": "text/x-python",
   "name": "python",
   "nbconvert_exporter": "python",
   "pygments_lexer": "ipython3",
   "version": "3.7.1"
  }
 },
 "nbformat": 4,
 "nbformat_minor": 2
}
