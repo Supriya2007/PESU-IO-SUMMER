{
 "cells": [
  {
   "cell_type": "code",
   "execution_count": 1,
   "metadata": {},
   "outputs": [
    {
     "name": "stdout",
     "output_type": "stream",
     "text": [
      "386  \n",
      "462  \n",
      "418  \n",
      "344  \n",
      "236  \n",
      "566  \n",
      "978  \n",
      "328  \n",
      "162  \n",
      "758  \n",
      "918  \n"
     ]
    }
   ],
   "source": [
    "numbers = [ 386, 462, 47, 418, 907, 344, 236, 375, 823, 566, 597, 978, 328, 615, 953, 345, 399, 162, 758, 219, 918, 237, \n",
    "           412, 566, 826, 248, 866, 950, 626, 949, 687, 217,815, 67, 104, 58, 512, 24, 892, 894, 767, 553, 81, 379, 843, \n",
    "           831, 445, 742, 717, 958,743, 527 ]\n",
    "for i in numbers:\n",
    "    if(i == 237):\n",
    "        break\n",
    "    elif(i%2 == 0):\n",
    "        print(i,\" \")"
   ]
  }
 ],
 "metadata": {
  "kernelspec": {
   "display_name": "Python 3",
   "language": "python",
   "name": "python3"
  },
  "language_info": {
   "codemirror_mode": {
    "name": "ipython",
    "version": 3
   },
   "file_extension": ".py",
   "mimetype": "text/x-python",
   "name": "python",
   "nbconvert_exporter": "python",
   "pygments_lexer": "ipython3",
   "version": "3.7.1"
  }
 },
 "nbformat": 4,
 "nbformat_minor": 2
}
