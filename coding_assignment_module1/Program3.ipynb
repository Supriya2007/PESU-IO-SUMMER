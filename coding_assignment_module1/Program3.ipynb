{
 "cells": [
  {
   "cell_type": "code",
   "execution_count": 1,
   "metadata": {},
   "outputs": [
    {
     "name": "stdout",
     "output_type": "stream",
     "text": [
      "Enter the element to be searched :3\n",
      "Enter the number of elements :5\n",
      "Enter the elements in ascending order \n",
      "\n",
      "Enter the element of the list :2\n",
      "Enter the element of the list :3\n",
      "Enter the element of the list :4\n",
      "Enter the element of the list :5\n",
      "Enter the element of the list :6\n",
      "The given number is present at position : 2\n"
     ]
    }
   ],
   "source": [
    "i=1\n",
    "l=[]\n",
    "flag=0\n",
    "num=int(input(\"Enter the element to be searched :\"))\n",
    "n=int(input(\"Enter the number of elements :\"))\n",
    "print(\"Enter the elements in ascending order \\n\")\n",
    "for i in range(0,n):\n",
    "    l.append(int(input(\"Enter the element of the list :\")))\n",
    "low=0\n",
    "high=n-1\n",
    "while(low<=high):\n",
    "    mid=(low+high)//2\n",
    "    if(l[mid]==num):\n",
    "        print(\"The given number is present at position :\",mid+1)\n",
    "        flag=1\n",
    "        break\n",
    "    elif(l[mid]>num):\n",
    "        high=mid-1\n",
    "    else:\n",
    "        low=mid+1\n",
    "if(flag==0):\n",
    "    print(\"Element not found in the given list\")"
   ]
  }
 ],
 "metadata": {
  "kernelspec": {
   "display_name": "Python 3",
   "language": "python",
   "name": "python3"
  },
  "language_info": {
   "codemirror_mode": {
    "name": "ipython",
    "version": 3
   },
   "file_extension": ".py",
   "mimetype": "text/x-python",
   "name": "python",
   "nbconvert_exporter": "python",
   "pygments_lexer": "ipython3",
   "version": "3.7.1"
  }
 },
 "nbformat": 4,
 "nbformat_minor": 2
}
